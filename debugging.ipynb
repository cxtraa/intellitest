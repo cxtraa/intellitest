{
 "cells": [
  {
   "cell_type": "code",
   "execution_count": 3,
   "metadata": {},
   "outputs": [],
   "source": [
    "import openai  # For generating embeddings\n",
    "import os  # For accessing API keys in environ variables\n",
    "import pandas as pd  # To use DataFrames for the chunks -> embeddings\n",
    "import re  # regular expressions\n",
    "import tiktoken  # token counting\n",
    "from IPython.display import display, Markdown\n",
    "import PyPDF2\n",
    "import pprint\n",
    "import requests\n",
    "import numpy as np\n",
    "from bs4 import BeautifulSoup\n",
    "from sklearn.metrics.pairwise import cosine_similarity\n",
    "from typing import List, Tuple, Dict, Set, Iterable\n",
    "import faiss\n",
    "import spacy\n",
    "import sqlite3\n",
    "from datetime import datetime\n",
    "import hashlib\n",
    "from annoy import AnnoyIndex\n",
    "import pickle"
   ]
  },
  {
   "cell_type": "code",
   "execution_count": 15,
   "metadata": {},
   "outputs": [],
   "source": [
    "from constants import *\n",
    "from utils import *\n",
    "from db_management import *"
   ]
  },
  {
   "cell_type": "code",
   "execution_count": 20,
   "metadata": {},
   "outputs": [],
   "source": [
    "# Set up the database\n",
    "\n",
    "db_path = \"./files.db\"\n",
    "create_table_sql = \"\"\"\n",
    "CREATE TABLE IF NOT EXISTS files (\n",
    "    id INTEGER PRIMARY KEY AUTOINCREMENT,\n",
    "    file_hash TEXT NOT NULL,\n",
    "    UNIQUE(file_hash)\n",
    ");\n",
    "\"\"\"\n",
    "conn = sqlite3.connect(db_path)\n",
    "cursor = conn.cursor()\n",
    "cursor.execute(create_table_sql)\n",
    "conn.commit()\n",
    "conn.close()"
   ]
  }
 ],
 "metadata": {
  "kernelspec": {
   "display_name": "windows_ml",
   "language": "python",
   "name": "python3"
  },
  "language_info": {
   "codemirror_mode": {
    "name": "ipython",
    "version": 3
   },
   "file_extension": ".py",
   "mimetype": "text/x-python",
   "name": "python",
   "nbconvert_exporter": "python",
   "pygments_lexer": "ipython3",
   "version": "3.10.13"
  }
 },
 "nbformat": 4,
 "nbformat_minor": 2
}
